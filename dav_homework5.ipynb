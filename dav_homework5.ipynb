{
  "nbformat": 4,
  "nbformat_minor": 0,
  "metadata": {
    "colab": {
      "name": "dav-homework5.ipynb",
      "provenance": [],
      "mount_file_id": "1hzRIp7CzVTqrwSskW6xbp7GQyvhepltf",
      "authorship_tag": "ABX9TyOGixllj4Xu49R4Pnf6M5OK",
      "include_colab_link": true
    },
    "kernelspec": {
      "name": "python3",
      "display_name": "Python 3"
    }
  },
  "cells": [
    {
      "cell_type": "markdown",
      "metadata": {
        "id": "view-in-github",
        "colab_type": "text"
      },
      "source": [
        "<a href=\"https://colab.research.google.com/github/PeterRutkowski/dav-homework5/blob/master/dav_homework5.ipynb\" target=\"_parent\"><img src=\"https://colab.research.google.com/assets/colab-badge.svg\" alt=\"Open In Colab\"/></a>"
      ]
    },
    {
      "cell_type": "code",
      "metadata": {
        "id": "omdGRq9WnkRn",
        "colab_type": "code",
        "colab": {}
      },
      "source": [
        "import pandas as pd\n",
        "import numpy as np\n",
        "from scipy import stats"
      ],
      "execution_count": 0,
      "outputs": []
    },
    {
      "cell_type": "code",
      "metadata": {
        "id": "qHt_kU51oGSC",
        "colab_type": "code",
        "colab": {}
      },
      "source": [
        "data = pd.read_csv('drive/My Drive/dav-homework5/ans.csv')\n",
        "\n",
        "def import_data(data, index):\n",
        "  x = data['x%d' % (index)]\n",
        "  y = data['y%d' % (index)]\n",
        "  x = np.asarray(x)\n",
        "  y = np.asarray(y)\n",
        "  return x.flatten(), y.flatten()\n",
        "\n",
        "x, y = import_data(data, 1)"
      ],
      "execution_count": 0,
      "outputs": []
    },
    {
      "cell_type": "code",
      "metadata": {
        "id": "HPjecSXPxlvQ",
        "colab_type": "code",
        "colab": {
          "base_uri": "https://localhost:8080/",
          "height": 221
        },
        "outputId": "97d39e5c-8da0-4661-a5b9-99df6d01c2ab"
      },
      "source": [
        "print(data)"
      ],
      "execution_count": 35,
      "outputs": [
        {
          "output_type": "stream",
          "text": [
            "    Unnamed: 0  x1  x2  x3  x4     y1    y2     y3     y4\n",
            "0            1  10  10  10   8   8.04  9.14   7.46   6.58\n",
            "1            2   8   8   8   8   6.95  8.14   6.77   5.76\n",
            "2            3  13  13  13   8   7.58  8.74  12.74   7.71\n",
            "3            4   9   9   9   8   8.81  8.77   7.11   8.84\n",
            "4            5  11  11  11   8   8.33  9.26   7.81   8.47\n",
            "5            6  14  14  14   8   9.96  8.10   8.84   7.04\n",
            "6            7   6   6   6   8   7.24  6.13   6.08   5.25\n",
            "7            8   4   4   4  19   4.26  3.10   5.39  12.50\n",
            "8            9  12  12  12   8  10.84  9.13   8.15   5.56\n",
            "9           10   7   7   7   8   4.82  7.26   6.42   7.91\n",
            "10          11   5   5   5   8   5.68  4.74   5.73   6.89\n"
          ],
          "name": "stdout"
        }
      ]
    },
    {
      "cell_type": "code",
      "metadata": {
        "id": "ZvhdXNdtwvK7",
        "colab_type": "code",
        "colab": {}
      },
      "source": [
        "x1, y1 = import_data(data, 1)\n",
        "x2, y2 = import_data(data, 2)\n",
        "x3, y3 = import_data(data, 3)\n",
        "x4, y4 = import_data(data, 4)"
      ],
      "execution_count": 0,
      "outputs": []
    },
    {
      "cell_type": "code",
      "metadata": {
        "id": "IHjoTEXHp3E1",
        "colab_type": "code",
        "colab": {}
      },
      "source": [
        "def statistics(x, y):\n",
        "  x_mean = np.mean(x)\n",
        "  x_var = np.var(x)\n",
        "  y_mean = np.mean(y)\n",
        "  y_var = np.var(y)\n",
        "  slope, intercept, correlation, p_value, std_err = stats.linregress(x,y)\n",
        "  determination = correlation**2\n",
        "\n",
        "  return x_mean, x_var, y_mean, y_var, correlation, slope, intercept, determination\n"
      ],
      "execution_count": 0,
      "outputs": []
    },
    {
      "cell_type": "code",
      "metadata": {
        "id": "oOnUHY-KrgzZ",
        "colab_type": "code",
        "colab": {
          "base_uri": "https://localhost:8080/",
          "height": 85
        },
        "outputId": "40d9c717-d098-4757-b020-fa51df6e2f4e"
      },
      "source": [
        "print(statistics(x1, y1))\n",
        "print(statistics(x2, y2))\n",
        "print(statistics(x3, y3))\n",
        "print(statistics(x4, y4))"
      ],
      "execution_count": 33,
      "outputs": [
        {
          "output_type": "stream",
          "text": [
            "(9.0, 10.0, 7.500909090909093, 3.7520628099173554, 0.8164205163448399, 0.5000909090909091, 3.0000909090909103, 0.666542459508775)\n",
            "(9.0, 10.0, 7.50090909090909, 3.752390082644628, 0.816236506000243, 0.5000000000000001, 3.000909090909089, 0.6662420337274847)\n",
            "(9.0, 10.0, 7.5, 3.747836363636364, 0.8162867394895984, 0.4997272727272729, 3.002454545454544, 0.6663240410665595)\n",
            "(9.0, 10.0, 7.500909090909091, 3.7484082644628103, 0.8165214368885028, 0.4999090909090909, 3.0017272727272726, 0.6667072568984652)\n"
          ],
          "name": "stdout"
        }
      ]
    },
    {
      "cell_type": "code",
      "metadata": {
        "id": "G3zG7lArxOWv",
        "colab_type": "code",
        "colab": {}
      },
      "source": [
        "import matplotlib.pyplot as plt"
      ],
      "execution_count": 0,
      "outputs": []
    },
    {
      "cell_type": "code",
      "metadata": {
        "id": "jLUBW618xdtD",
        "colab_type": "code",
        "colab": {}
      },
      "source": [
        "fig, ax = plt.subplots(2,2)"
      ],
      "execution_count": 0,
      "outputs": []
    }
  ]
}